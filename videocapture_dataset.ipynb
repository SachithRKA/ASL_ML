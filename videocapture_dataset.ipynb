{
 "cells": [
  {
   "cell_type": "code",
   "execution_count": 4,
   "metadata": {},
   "outputs": [],
   "source": [
    "import cv2\n",
    "import os"
   ]
  },
  {
   "cell_type": "code",
   "execution_count": 5,
   "metadata": {},
   "outputs": [],
   "source": [
    "import os\n",
    "\n",
    "labels = [chr(i) for i in range(ord('A'), ord('Z')+1)]\n",
    "parent_dir = \"frame_dataset\"\n",
    "\n",
    "for label in labels:\n",
    "    path = os.path.join(parent_dir, label)\n",
    "    if not os.path.exists(path):\n",
    "        os.mkdir(path)"
   ]
  },
  {
   "cell_type": "code",
   "execution_count": 16,
   "metadata": {},
   "outputs": [
    {
     "name": "stdout",
     "output_type": "stream",
     "text": [
      "Press 's' to start data collection for A\n"
     ]
    }
   ],
   "source": [
    "parent_dir = \"frame_dataset\"\n",
    "folder = 'A'\n",
    "path = os.path.join(parent_dir, folder)\n",
    "if not os.path.exists(path):\n",
    "    os.mkdir(path)\n",
    "\n",
    "camera = cv2.VideoCapture(0)\n",
    "\n",
    "print(f\"Press 's' to start data collection for {folder}\")\n",
    "\n",
    "while True:\n",
    "    status, frame = camera.read()\n",
    "    if not status:\n",
    "        print(\"Camera not working...\")\n",
    "        break\n",
    "    gray = cv2.cvtColor(frame,  cv2.COLOR_BGR2GRAY)\n",
    "    cv2.imshow(\"Video Window\", gray)\n",
    "\n",
    "    if cv2.waitKey(1) & 0xFF == ord('s'):\n",
    "        break\n",
    "\n",
    "count = 201\n",
    "while count < 400:\n",
    "    if cv2.waitKey(1) & 0xFF == ord('q'):\n",
    "        break\n",
    "\n",
    "    status, frame = camera.read()\n",
    "    if not status:\n",
    "        print(\"Camera not working...\")\n",
    "        break\n",
    "    gray = cv2.cvtColor(frame,  cv2.COLOR_BGR2GRAY)\n",
    "    cv2.imshow(\"Video Window\", gray)\n",
    "\n",
    "    while os.path.exists(os.path.join(parent_dir, folder, f\"{folder}_{count}.jpg\")):\n",
    "        count += 1\n",
    "\n",
    "    cv2.imwrite(os.path.join(parent_dir, folder, f\"{folder}_{count}.jpg\"), gray)\n",
    "    count += 1\n",
    "\n",
    "camera.release()\n",
    "cv2.destroyAllWindows()"
   ]
  },
  {
   "cell_type": "code",
   "execution_count": null,
   "metadata": {},
   "outputs": [],
   "source": []
  }
 ],
 "metadata": {
  "kernelspec": {
   "display_name": "Python 3",
   "language": "python",
   "name": "python3"
  },
  "language_info": {
   "codemirror_mode": {
    "name": "ipython",
    "version": 3
   },
   "file_extension": ".py",
   "mimetype": "text/x-python",
   "name": "python",
   "nbconvert_exporter": "python",
   "pygments_lexer": "ipython3",
   "version": "3.10.12"
  }
 },
 "nbformat": 4,
 "nbformat_minor": 2
}
