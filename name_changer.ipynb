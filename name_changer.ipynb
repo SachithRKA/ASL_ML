{
 "cells": [
  {
   "cell_type": "code",
   "execution_count": 1,
   "metadata": {},
   "outputs": [],
   "source": [
    "import os\n",
    "import glob"
   ]
  },
  {
   "cell_type": "code",
   "execution_count": 2,
   "metadata": {},
   "outputs": [],
   "source": [
    "dir_path = \"landmarks_dataset\"\n",
    "\n",
    "for subdir in os.listdir(dir_path):\n",
    "    subdir_path = os.path.join(dir_path, subdir)\n",
    "    \n",
    "    if os.path.isdir(subdir_path):\n",
    "        files = glob.glob(os.path.join(subdir_path, \"*.jpg\"))\n",
    "        \n",
    "        for i, file_path in enumerate(files):\n",
    "            new_name = f\"{subdir}_{i}.jpg\"\n",
    "            new_file_path = os.path.join(subdir_path, new_name)\n",
    "            \n",
    "            # Rename the file\n",
    "            os.rename(file_path, new_file_path)"
   ]
  }
 ],
 "metadata": {
  "kernelspec": {
   "display_name": "Python 3",
   "language": "python",
   "name": "python3"
  },
  "language_info": {
   "codemirror_mode": {
    "name": "ipython",
    "version": 3
   },
   "file_extension": ".py",
   "mimetype": "text/x-python",
   "name": "python",
   "nbconvert_exporter": "python",
   "pygments_lexer": "ipython3",
   "version": "3.10.12"
  }
 },
 "nbformat": 4,
 "nbformat_minor": 2
}
